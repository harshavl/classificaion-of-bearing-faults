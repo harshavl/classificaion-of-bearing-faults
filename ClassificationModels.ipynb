{
 "cells": [
  {
   "cell_type": "markdown",
   "metadata": {
    "colab_type": "text",
    "id": "view-in-github"
   },
   "source": [
    "<a href=\"https://colab.research.google.com/github/KaushikPalani/Classification_of_bearing_faults_using_ML/blob/main/ClassificationModels.ipynb\" target=\"_parent\"><img src=\"https://colab.research.google.com/assets/colab-badge.svg\" alt=\"Open In Colab\"/></a>"
   ]
  },
  {
   "cell_type": "code",
   "execution_count": 33,
   "metadata": {
    "colab": {
     "base_uri": "https://localhost:8080/"
    },
    "id": "G8UDEVOj1Seq",
    "outputId": "ea8cfd68-9cf6-4eb0-a517-77e2b9e4ba77"
   },
   "outputs": [],
   "source": [
    "#from google.colab import drive \n",
    "#drive.mount('/content/drive')"
   ]
  },
  {
   "cell_type": "code",
   "execution_count": 4,
   "metadata": {},
   "outputs": [
    {
     "name": "stdout",
     "output_type": "stream",
     "text": [
      "\u001b[33mDEPRECATION: Configuring installation scheme with distutils config files is deprecated and will no longer work in the near future. If you are using a Homebrew or Linuxbrew Python, please see discussion at https://github.com/Homebrew/homebrew-core/issues/76621\u001b[0m\u001b[33m\n",
      "\u001b[0mCollecting tensorflow\n",
      "  Using cached tensorflow-2.9.1-cp39-cp39-macosx_10_14_x86_64.whl (228.5 MB)\n",
      "Collecting protobuf<3.20,>=3.9.2\n",
      "  Using cached protobuf-3.19.4-cp39-cp39-macosx_10_9_x86_64.whl (961 kB)\n",
      "Collecting astunparse>=1.6.0\n",
      "  Using cached astunparse-1.6.3-py2.py3-none-any.whl (12 kB)\n",
      "Collecting gast<=0.4.0,>=0.2.1\n",
      "  Using cached gast-0.4.0-py3-none-any.whl (9.8 kB)\n",
      "Requirement already satisfied: six>=1.12.0 in /usr/local/lib/python3.9/site-packages (from tensorflow) (1.16.0)\n",
      "Collecting absl-py>=1.0.0\n",
      "  Using cached absl_py-1.1.0-py3-none-any.whl (123 kB)\n",
      "Collecting packaging\n",
      "  Using cached packaging-21.3-py3-none-any.whl (40 kB)\n",
      "Collecting flatbuffers<2,>=1.12\n",
      "  Using cached flatbuffers-1.12-py2.py3-none-any.whl (15 kB)\n",
      "Collecting libclang>=13.0.0\n",
      "  Using cached libclang-14.0.1-py2.py3-none-macosx_10_9_x86_64.whl (13.2 MB)\n",
      "Collecting termcolor>=1.1.0\n",
      "  Using cached termcolor-1.1.0-py3-none-any.whl\n",
      "Collecting wrapt>=1.11.0\n",
      "  Using cached wrapt-1.14.1-cp39-cp39-macosx_10_9_x86_64.whl (35 kB)\n",
      "Collecting tensorflow-estimator<2.10.0,>=2.9.0rc0\n",
      "  Using cached tensorflow_estimator-2.9.0-py2.py3-none-any.whl (438 kB)\n",
      "Collecting google-pasta>=0.1.1\n",
      "  Using cached google_pasta-0.2.0-py3-none-any.whl (57 kB)\n",
      "Collecting tensorflow-io-gcs-filesystem>=0.23.1\n",
      "  Using cached tensorflow_io_gcs_filesystem-0.26.0-cp39-cp39-macosx_10_14_x86_64.whl (1.6 MB)\n",
      "Collecting h5py>=2.9.0\n",
      "  Using cached h5py-3.7.0-cp39-cp39-macosx_10_9_x86_64.whl (3.2 MB)\n",
      "Collecting opt-einsum>=2.3.2\n",
      "  Using cached opt_einsum-3.3.0-py3-none-any.whl (65 kB)\n",
      "Collecting tensorboard<2.10,>=2.9\n",
      "  Using cached tensorboard-2.9.1-py3-none-any.whl (5.8 MB)\n",
      "Requirement already satisfied: setuptools in /usr/local/lib/python3.9/site-packages (from tensorflow) (60.10.0)\n",
      "Collecting keras<2.10.0,>=2.9.0rc0\n",
      "  Using cached keras-2.9.0-py2.py3-none-any.whl (1.6 MB)\n",
      "Collecting grpcio<2.0,>=1.24.3\n",
      "  Using cached grpcio-1.46.3-cp39-cp39-macosx_10_10_x86_64.whl (4.4 MB)\n",
      "Collecting typing-extensions>=3.6.6\n",
      "  Using cached typing_extensions-4.2.0-py3-none-any.whl (24 kB)\n",
      "Collecting keras-preprocessing>=1.1.1\n",
      "  Using cached Keras_Preprocessing-1.1.2-py2.py3-none-any.whl (42 kB)\n",
      "Requirement already satisfied: numpy>=1.20 in /usr/local/lib/python3.9/site-packages (from tensorflow) (1.22.4)\n",
      "Requirement already satisfied: wheel<1.0,>=0.23.0 in /usr/local/lib/python3.9/site-packages (from astunparse>=1.6.0->tensorflow) (0.37.1)\n",
      "Collecting markdown>=2.6.8\n",
      "  Using cached Markdown-3.3.7-py3-none-any.whl (97 kB)\n",
      "Collecting google-auth<3,>=1.6.3\n",
      "  Downloading google_auth-2.8.0-py2.py3-none-any.whl (164 kB)\n",
      "\u001b[2K     \u001b[38;2;114;156;31m━━━━━━━━━━━━━━━━━━━━━━━━━━━━━━━━━━━━━\u001b[0m \u001b[32m164.2/164.2 KB\u001b[0m \u001b[31m427.5 kB/s\u001b[0m eta \u001b[36m0:00:00\u001b[0mm eta \u001b[36m0:00:01\u001b[0m0:01\u001b[0m:01\u001b[0m\n",
      "\u001b[?25hCollecting tensorboard-data-server<0.7.0,>=0.6.0\n",
      "  Using cached tensorboard_data_server-0.6.1-py3-none-macosx_10_9_x86_64.whl (3.5 MB)\n",
      "Collecting werkzeug>=1.0.1\n",
      "  Using cached Werkzeug-2.1.2-py3-none-any.whl (224 kB)\n",
      "Collecting requests<3,>=2.21.0\n",
      "  Using cached requests-2.28.0-py3-none-any.whl (62 kB)\n",
      "Collecting google-auth-oauthlib<0.5,>=0.4.1\n",
      "  Using cached google_auth_oauthlib-0.4.6-py2.py3-none-any.whl (18 kB)\n",
      "Collecting tensorboard-plugin-wit>=1.6.0\n",
      "  Using cached tensorboard_plugin_wit-1.8.1-py3-none-any.whl (781 kB)\n",
      "Collecting pyparsing!=3.0.5,>=2.0.2\n",
      "  Using cached pyparsing-3.0.9-py3-none-any.whl (98 kB)\n",
      "Collecting pyasn1-modules>=0.2.1\n",
      "  Using cached pyasn1_modules-0.2.8-py2.py3-none-any.whl (155 kB)\n",
      "Collecting cachetools<6.0,>=2.0.0\n",
      "  Using cached cachetools-5.2.0-py3-none-any.whl (9.3 kB)\n",
      "Collecting rsa<5,>=3.1.4\n",
      "  Using cached rsa-4.8-py3-none-any.whl (39 kB)\n",
      "Collecting requests-oauthlib>=0.7.0\n",
      "  Using cached requests_oauthlib-1.3.1-py2.py3-none-any.whl (23 kB)\n",
      "Collecting importlib-metadata>=4.4\n",
      "  Using cached importlib_metadata-4.11.4-py3-none-any.whl (18 kB)\n",
      "Collecting idna<4,>=2.5\n",
      "  Using cached idna-3.3-py3-none-any.whl (61 kB)\n",
      "Collecting charset-normalizer~=2.0.0\n",
      "  Using cached charset_normalizer-2.0.12-py3-none-any.whl (39 kB)\n",
      "Collecting urllib3<1.27,>=1.21.1\n",
      "  Using cached urllib3-1.26.9-py2.py3-none-any.whl (138 kB)\n",
      "Collecting certifi>=2017.4.17\n",
      "  Downloading certifi-2022.6.15-py3-none-any.whl (160 kB)\n",
      "\u001b[2K     \u001b[38;2;114;156;31m━━━━━━━━━━━━━━━━━━━━━━━━━━━━━━━━━━━━━\u001b[0m \u001b[32m160.2/160.2 KB\u001b[0m \u001b[31m628.6 kB/s\u001b[0m eta \u001b[36m0:00:00\u001b[0m kB/s\u001b[0m eta \u001b[36m0:00:01\u001b[0m:01\u001b[0m\n",
      "\u001b[?25hCollecting zipp>=0.5\n",
      "  Using cached zipp-3.8.0-py3-none-any.whl (5.4 kB)\n",
      "Collecting pyasn1<0.5.0,>=0.4.6\n",
      "  Using cached pyasn1-0.4.8-py2.py3-none-any.whl (77 kB)\n",
      "Collecting oauthlib>=3.0.0\n",
      "  Using cached oauthlib-3.2.0-py3-none-any.whl (151 kB)\n",
      "Installing collected packages: termcolor, tensorboard-plugin-wit, pyasn1, libclang, keras, flatbuffers, zipp, wrapt, werkzeug, urllib3, typing-extensions, tensorflow-io-gcs-filesystem, tensorflow-estimator, tensorboard-data-server, rsa, pyparsing, pyasn1-modules, protobuf, opt-einsum, oauthlib, keras-preprocessing, idna, h5py, grpcio, google-pasta, gast, charset-normalizer, certifi, cachetools, astunparse, absl-py, requests, packaging, importlib-metadata, google-auth, requests-oauthlib, markdown, google-auth-oauthlib, tensorboard, tensorflow\n",
      "\u001b[33m  DEPRECATION: Configuring installation scheme with distutils config files is deprecated and will no longer work in the near future. If you are using a Homebrew or Linuxbrew Python, please see discussion at https://github.com/Homebrew/homebrew-core/issues/76621\u001b[0m\u001b[33m\n",
      "\u001b[0m\u001b[33m  DEPRECATION: Configuring installation scheme with distutils config files is deprecated and will no longer work in the near future. If you are using a Homebrew or Linuxbrew Python, please see discussion at https://github.com/Homebrew/homebrew-core/issues/76621\u001b[0m\u001b[33m\n",
      "\u001b[0m\u001b[33m  DEPRECATION: Configuring installation scheme with distutils config files is deprecated and will no longer work in the near future. If you are using a Homebrew or Linuxbrew Python, please see discussion at https://github.com/Homebrew/homebrew-core/issues/76621\u001b[0m\u001b[33m\n",
      "\u001b[0m\u001b[33m  DEPRECATION: Configuring installation scheme with distutils config files is deprecated and will no longer work in the near future. If you are using a Homebrew or Linuxbrew Python, please see discussion at https://github.com/Homebrew/homebrew-core/issues/76621\u001b[0m\u001b[33m\n",
      "\u001b[0m\u001b[33m  DEPRECATION: Configuring installation scheme with distutils config files is deprecated and will no longer work in the near future. If you are using a Homebrew or Linuxbrew Python, please see discussion at https://github.com/Homebrew/homebrew-core/issues/76621\u001b[0m\u001b[33m\n",
      "\u001b[0m\u001b[33m  DEPRECATION: Configuring installation scheme with distutils config files is deprecated and will no longer work in the near future. If you are using a Homebrew or Linuxbrew Python, please see discussion at https://github.com/Homebrew/homebrew-core/issues/76621\u001b[0m\u001b[33m\n",
      "\u001b[0m\u001b[33m  DEPRECATION: Configuring installation scheme with distutils config files is deprecated and will no longer work in the near future. If you are using a Homebrew or Linuxbrew Python, please see discussion at https://github.com/Homebrew/homebrew-core/issues/76621\u001b[0m\u001b[33m\n",
      "\u001b[0m\u001b[33m  DEPRECATION: Configuring installation scheme with distutils config files is deprecated and will no longer work in the near future. If you are using a Homebrew or Linuxbrew Python, please see discussion at https://github.com/Homebrew/homebrew-core/issues/76621\u001b[0m\u001b[33m\n",
      "\u001b[0m\u001b[33m  DEPRECATION: Configuring installation scheme with distutils config files is deprecated and will no longer work in the near future. If you are using a Homebrew or Linuxbrew Python, please see discussion at https://github.com/Homebrew/homebrew-core/issues/76621\u001b[0m\u001b[33m\n",
      "\u001b[0m\u001b[33m  DEPRECATION: Configuring installation scheme with distutils config files is deprecated and will no longer work in the near future. If you are using a Homebrew or Linuxbrew Python, please see discussion at https://github.com/Homebrew/homebrew-core/issues/76621\u001b[0m\u001b[33m\n"
     ]
    },
    {
     "name": "stdout",
     "output_type": "stream",
     "text": [
      "\u001b[0m\u001b[33m  DEPRECATION: Configuring installation scheme with distutils config files is deprecated and will no longer work in the near future. If you are using a Homebrew or Linuxbrew Python, please see discussion at https://github.com/Homebrew/homebrew-core/issues/76621\u001b[0m\u001b[33m\n",
      "\u001b[0m\u001b[33m  DEPRECATION: Configuring installation scheme with distutils config files is deprecated and will no longer work in the near future. If you are using a Homebrew or Linuxbrew Python, please see discussion at https://github.com/Homebrew/homebrew-core/issues/76621\u001b[0m\u001b[33m\n",
      "\u001b[0m\u001b[33m  DEPRECATION: Configuring installation scheme with distutils config files is deprecated and will no longer work in the near future. If you are using a Homebrew or Linuxbrew Python, please see discussion at https://github.com/Homebrew/homebrew-core/issues/76621\u001b[0m\u001b[33m\n",
      "\u001b[0m\u001b[33m  DEPRECATION: Configuring installation scheme with distutils config files is deprecated and will no longer work in the near future. If you are using a Homebrew or Linuxbrew Python, please see discussion at https://github.com/Homebrew/homebrew-core/issues/76621\u001b[0m\u001b[33m\n",
      "\u001b[0m\u001b[33m  DEPRECATION: Configuring installation scheme with distutils config files is deprecated and will no longer work in the near future. If you are using a Homebrew or Linuxbrew Python, please see discussion at https://github.com/Homebrew/homebrew-core/issues/76621\u001b[0m\u001b[33m\n",
      "\u001b[0m\u001b[33m  DEPRECATION: Configuring installation scheme with distutils config files is deprecated and will no longer work in the near future. If you are using a Homebrew or Linuxbrew Python, please see discussion at https://github.com/Homebrew/homebrew-core/issues/76621\u001b[0m\u001b[33m\n",
      "\u001b[0m\u001b[33m  DEPRECATION: Configuring installation scheme with distutils config files is deprecated and will no longer work in the near future. If you are using a Homebrew or Linuxbrew Python, please see discussion at https://github.com/Homebrew/homebrew-core/issues/76621\u001b[0m\u001b[33m\n",
      "\u001b[0m\u001b[33m  DEPRECATION: Configuring installation scheme with distutils config files is deprecated and will no longer work in the near future. If you are using a Homebrew or Linuxbrew Python, please see discussion at https://github.com/Homebrew/homebrew-core/issues/76621\u001b[0m\u001b[33m\n",
      "\u001b[0m\u001b[33m  DEPRECATION: Configuring installation scheme with distutils config files is deprecated and will no longer work in the near future. If you are using a Homebrew or Linuxbrew Python, please see discussion at https://github.com/Homebrew/homebrew-core/issues/76621\u001b[0m\u001b[33m\n",
      "\u001b[0m\u001b[33m  DEPRECATION: Configuring installation scheme with distutils config files is deprecated and will no longer work in the near future. If you are using a Homebrew or Linuxbrew Python, please see discussion at https://github.com/Homebrew/homebrew-core/issues/76621\u001b[0m\u001b[33m\n",
      "\u001b[0m\u001b[33m  DEPRECATION: Configuring installation scheme with distutils config files is deprecated and will no longer work in the near future. If you are using a Homebrew or Linuxbrew Python, please see discussion at https://github.com/Homebrew/homebrew-core/issues/76621\u001b[0m\u001b[33m\n",
      "\u001b[0m\u001b[33m  DEPRECATION: Configuring installation scheme with distutils config files is deprecated and will no longer work in the near future. If you are using a Homebrew or Linuxbrew Python, please see discussion at https://github.com/Homebrew/homebrew-core/issues/76621\u001b[0m\u001b[33m\n",
      "\u001b[0m\u001b[33m  DEPRECATION: Configuring installation scheme with distutils config files is deprecated and will no longer work in the near future. If you are using a Homebrew or Linuxbrew Python, please see discussion at https://github.com/Homebrew/homebrew-core/issues/76621\u001b[0m\u001b[33m\n",
      "\u001b[0m\u001b[33m  DEPRECATION: Configuring installation scheme with distutils config files is deprecated and will no longer work in the near future. If you are using a Homebrew or Linuxbrew Python, please see discussion at https://github.com/Homebrew/homebrew-core/issues/76621\u001b[0m\u001b[33m\n",
      "\u001b[0m\u001b[33m  DEPRECATION: Configuring installation scheme with distutils config files is deprecated and will no longer work in the near future. If you are using a Homebrew or Linuxbrew Python, please see discussion at https://github.com/Homebrew/homebrew-core/issues/76621\u001b[0m\u001b[33m\n",
      "\u001b[0m\u001b[33m  DEPRECATION: Configuring installation scheme with distutils config files is deprecated and will no longer work in the near future. If you are using a Homebrew or Linuxbrew Python, please see discussion at https://github.com/Homebrew/homebrew-core/issues/76621\u001b[0m\u001b[33m\n",
      "\u001b[0m\u001b[33m  DEPRECATION: Configuring installation scheme with distutils config files is deprecated and will no longer work in the near future. If you are using a Homebrew or Linuxbrew Python, please see discussion at https://github.com/Homebrew/homebrew-core/issues/76621\u001b[0m\u001b[33m\n",
      "\u001b[0m\u001b[33m  DEPRECATION: Configuring installation scheme with distutils config files is deprecated and will no longer work in the near future. If you are using a Homebrew or Linuxbrew Python, please see discussion at https://github.com/Homebrew/homebrew-core/issues/76621\u001b[0m\u001b[33m\n",
      "\u001b[0m\u001b[33m  DEPRECATION: Configuring installation scheme with distutils config files is deprecated and will no longer work in the near future. If you are using a Homebrew or Linuxbrew Python, please see discussion at https://github.com/Homebrew/homebrew-core/issues/76621\u001b[0m\u001b[33m\n",
      "\u001b[0m\u001b[33m  DEPRECATION: Configuring installation scheme with distutils config files is deprecated and will no longer work in the near future. If you are using a Homebrew or Linuxbrew Python, please see discussion at https://github.com/Homebrew/homebrew-core/issues/76621\u001b[0m\u001b[33m\n",
      "\u001b[0m\u001b[33m  DEPRECATION: Configuring installation scheme with distutils config files is deprecated and will no longer work in the near future. If you are using a Homebrew or Linuxbrew Python, please see discussion at https://github.com/Homebrew/homebrew-core/issues/76621\u001b[0m\u001b[33m\n",
      "\u001b[0m\u001b[33m  DEPRECATION: Configuring installation scheme with distutils config files is deprecated and will no longer work in the near future. If you are using a Homebrew or Linuxbrew Python, please see discussion at https://github.com/Homebrew/homebrew-core/issues/76621\u001b[0m\u001b[33m\n",
      "\u001b[0m\u001b[33m  DEPRECATION: Configuring installation scheme with distutils config files is deprecated and will no longer work in the near future. If you are using a Homebrew or Linuxbrew Python, please see discussion at https://github.com/Homebrew/homebrew-core/issues/76621\u001b[0m\u001b[33m\n",
      "\u001b[0m\u001b[33m  DEPRECATION: Configuring installation scheme with distutils config files is deprecated and will no longer work in the near future. If you are using a Homebrew or Linuxbrew Python, please see discussion at https://github.com/Homebrew/homebrew-core/issues/76621\u001b[0m\u001b[33m\n",
      "\u001b[0m\u001b[33m  DEPRECATION: Configuring installation scheme with distutils config files is deprecated and will no longer work in the near future. If you are using a Homebrew or Linuxbrew Python, please see discussion at https://github.com/Homebrew/homebrew-core/issues/76621\u001b[0m\u001b[33m\n",
      "\u001b[0m\u001b[33m  DEPRECATION: Configuring installation scheme with distutils config files is deprecated and will no longer work in the near future. If you are using a Homebrew or Linuxbrew Python, please see discussion at https://github.com/Homebrew/homebrew-core/issues/76621\u001b[0m\u001b[33m\n",
      "\u001b[0m\u001b[33m  DEPRECATION: Configuring installation scheme with distutils config files is deprecated and will no longer work in the near future. If you are using a Homebrew or Linuxbrew Python, please see discussion at https://github.com/Homebrew/homebrew-core/issues/76621\u001b[0m\u001b[33m\n",
      "\u001b[0m\u001b[33m  DEPRECATION: Configuring installation scheme with distutils config files is deprecated and will no longer work in the near future. If you are using a Homebrew or Linuxbrew Python, please see discussion at https://github.com/Homebrew/homebrew-core/issues/76621\u001b[0m\u001b[33m\n",
      "\u001b[0m\u001b[33m  DEPRECATION: Configuring installation scheme with distutils config files is deprecated and will no longer work in the near future. If you are using a Homebrew or Linuxbrew Python, please see discussion at https://github.com/Homebrew/homebrew-core/issues/76621\u001b[0m\u001b[33m\n",
      "\u001b[0m\u001b[33m  DEPRECATION: Configuring installation scheme with distutils config files is deprecated and will no longer work in the near future. If you are using a Homebrew or Linuxbrew Python, please see discussion at https://github.com/Homebrew/homebrew-core/issues/76621\u001b[0m\u001b[33m\n"
     ]
    },
    {
     "name": "stdout",
     "output_type": "stream",
     "text": [
      "\u001b[0m\u001b[33mDEPRECATION: Configuring installation scheme with distutils config files is deprecated and will no longer work in the near future. If you are using a Homebrew or Linuxbrew Python, please see discussion at https://github.com/Homebrew/homebrew-core/issues/76621\u001b[0m\u001b[33m\r\n",
      "\u001b[0mSuccessfully installed absl-py-1.1.0 astunparse-1.6.3 cachetools-5.2.0 certifi-2022.6.15 charset-normalizer-2.0.12 flatbuffers-1.12 gast-0.4.0 google-auth-2.8.0 google-auth-oauthlib-0.4.6 google-pasta-0.2.0 grpcio-1.46.3 h5py-3.7.0 idna-3.3 importlib-metadata-4.11.4 keras-2.9.0 keras-preprocessing-1.1.2 libclang-14.0.1 markdown-3.3.7 oauthlib-3.2.0 opt-einsum-3.3.0 packaging-21.3 protobuf-3.19.4 pyasn1-0.4.8 pyasn1-modules-0.2.8 pyparsing-3.0.9 requests-2.28.0 requests-oauthlib-1.3.1 rsa-4.8 tensorboard-2.9.1 tensorboard-data-server-0.6.1 tensorboard-plugin-wit-1.8.1 tensorflow-2.9.1 tensorflow-estimator-2.9.0 tensorflow-io-gcs-filesystem-0.26.0 termcolor-1.1.0 typing-extensions-4.2.0 urllib3-1.26.9 werkzeug-2.1.2 wrapt-1.14.1 zipp-3.8.0\r\n",
      "\u001b[33mWARNING: You are using pip version 22.0.4; however, version 22.1.2 is available.\r\n",
      "You should consider upgrading via the '/usr/local/opt/python@3.9/bin/python3.9 -m pip install --upgrade pip' command.\u001b[0m\u001b[33m\r\n",
      "\u001b[0m"
     ]
    }
   ],
   "source": [
    "!pip3 install tensorflow\n",
    "\n"
   ]
  },
  {
   "cell_type": "code",
   "execution_count": 7,
   "metadata": {},
   "outputs": [
    {
     "name": "stdout",
     "output_type": "stream",
     "text": [
      "\u001b[33mDEPRECATION: Configuring installation scheme with distutils config files is deprecated and will no longer work in the near future. If you are using a Homebrew or Linuxbrew Python, please see discussion at https://github.com/Homebrew/homebrew-core/issues/76621\u001b[0m\u001b[33m\n",
      "\u001b[0mRequirement already satisfied: pandas in /usr/local/lib/python3.9/site-packages (1.4.2)\n",
      "Requirement already satisfied: python-dateutil>=2.8.1 in /usr/local/lib/python3.9/site-packages (from pandas) (2.8.2)\n",
      "Requirement already satisfied: pytz>=2020.1 in /usr/local/lib/python3.9/site-packages (from pandas) (2022.1)\n",
      "Requirement already satisfied: numpy>=1.18.5 in /usr/local/lib/python3.9/site-packages (from pandas) (1.22.4)\n",
      "Requirement already satisfied: six>=1.5 in /usr/local/lib/python3.9/site-packages (from python-dateutil>=2.8.1->pandas) (1.16.0)\n",
      "\u001b[33mDEPRECATION: Configuring installation scheme with distutils config files is deprecated and will no longer work in the near future. If you are using a Homebrew or Linuxbrew Python, please see discussion at https://github.com/Homebrew/homebrew-core/issues/76621\u001b[0m\u001b[33m\n",
      "\u001b[0m\u001b[33mWARNING: You are using pip version 22.0.4; however, version 22.1.2 is available.\n",
      "You should consider upgrading via the '/usr/local/opt/python@3.9/bin/python3.9 -m pip install --upgrade pip' command.\u001b[0m\u001b[33m\n",
      "\u001b[0m"
     ]
    }
   ],
   "source": [
    "! pip3 install pandas"
   ]
  },
  {
   "cell_type": "markdown",
   "metadata": {
    "id": "qk6QA7sU8I-X"
   },
   "source": [
    "Load necessary packages and libraries "
   ]
  },
  {
   "cell_type": "code",
   "execution_count": 8,
   "metadata": {
    "id": "s6H5bqQk1YMq"
   },
   "outputs": [],
   "source": [
    "import scipy.io \n",
    "#import scipy\n",
    "import numpy as np\n",
    "from sklearn.model_selection import train_test_split, KFold\n",
    "from sklearn.metrics import confusion_matrix\n",
    "import tensorflow as tf\n",
    "from tensorflow.keras import layers, models\n",
    "import matplotlib.pyplot as plt\n",
    "import seaborn as sns \n",
    "import pandas as pd\n",
    "\n"
   ]
  },
  {
   "cell_type": "code",
   "execution_count": null,
   "metadata": {},
   "outputs": [],
   "source": []
  },
  {
   "cell_type": "markdown",
   "metadata": {
    "id": "-Gge1ED-8MZD"
   },
   "source": [
    "Import Data  "
   ]
  },
  {
   "cell_type": "code",
   "execution_count": 9,
   "metadata": {
    "colab": {
     "base_uri": "https://localhost:8080/"
    },
    "id": "He3WGBPB2A-u",
    "outputId": "81e637c8-1962-4f61-f6b9-23704875251a"
   },
   "outputs": [
    {
     "name": "stdout",
     "output_type": "stream",
     "text": [
      "Shape of Input Data = (24276, 1681)\n",
      "Shape of Label Y_CNN = (24276, 10)\n",
      "Shape of Label Y = (24276, 1)\n"
     ]
    }
   ],
   "source": [
    "def ImportData():\n",
    "  X99_normal = scipy.io.loadmat('./BearingData_CaseWestern/99.mat')['X099_DE_time']              \n",
    "  X111_InnerRace_007 = scipy.io.loadmat('./BearingData_CaseWestern/111.mat')['X111_DE_time']\n",
    "  X124_Ball_007 = scipy.io.loadmat('./BearingData_CaseWestern/124.mat')['X124_DE_time']\n",
    "  X137_Outer_007 = scipy.io.loadmat('./BearingData_CaseWestern/137.mat')['X137_DE_time']\n",
    "  X176_InnerRace_014 = scipy.io.loadmat('./BearingData_CaseWestern/176.mat')['X176_DE_time']\n",
    "  X191_Ball_014 = scipy.io.loadmat('./BearingData_CaseWestern/191.mat')['X191_DE_time']\n",
    "  X203_Outer_014 = scipy.io.loadmat('./BearingData_CaseWestern/203.mat')['X203_DE_time']\n",
    "  X215_InnerRace_021 = scipy.io.loadmat('./BearingData_CaseWestern/215.mat')['X215_DE_time']\n",
    "  X228_Ball_021 = scipy.io.loadmat('./BearingData_CaseWestern/228.mat')['X228_DE_time']\n",
    "  X240_Outer_021 = scipy.io.loadmat('./BearingData_CaseWestern/240.mat')['X240_DE_time']\n",
    "  return [X99_normal,X111_InnerRace_007,X124_Ball_007,X137_Outer_007,X176_InnerRace_014,X191_Ball_014,X203_Outer_014,X215_InnerRace_021,X228_Ball_021,X240_Outer_021]\n",
    "\n",
    "\n",
    "def Sampling(Data, interval_length, samples_per_block):\n",
    "  # Calculate the number of blocks that can be sampled based on the interval length \n",
    "  No_of_blocks = (round(len(Data)/interval_length) - round(samples_per_block/interval_length)-1)\n",
    "  SplitData = np.zeros([No_of_blocks, samples_per_block])\n",
    "  for i in range(No_of_blocks):\n",
    "    SplitData[i,:] = (Data[i*interval_length:(i*interval_length)+samples_per_block]).T\n",
    "  return SplitData\n",
    "\n",
    "\n",
    "def DataPreparation(Data, interval_length, samples_per_block):\n",
    "  for count,i in enumerate(Data):\n",
    "    SplitData = Sampling(i, interval_length, samples_per_block)\n",
    "    y = np.zeros([len(SplitData),10])\n",
    "    y[:,count] = 1\n",
    "    y1 = np.zeros([len(SplitData),1])\n",
    "    y1[:,0] = count\n",
    "    # Stack up and label the data   \n",
    "    if count==0:\n",
    "      X = SplitData\n",
    "      LabelPositional = y\n",
    "      Label = y1\n",
    "    else:\n",
    "      X = np.append(X, SplitData, axis=0)\n",
    "      LabelPositional = np.append(LabelPositional,y,axis=0)\n",
    "      Label = np.append(Label,y1,axis=0)\n",
    "  return X, LabelPositional, Label\n",
    "\n",
    "\n",
    "Data = ImportData()\n",
    "interval_length = 200  \n",
    "samples_per_block = 1681\n",
    "\n",
    "\n",
    "# Y_CNN is of shape (n, 10) representing 10 classes as 10 columns. In each sample, for the class to which it belongs, \n",
    "# the corresponding column value is marked 1 and the rest as 0, facilitating Softmax implementation in CNN \n",
    "# Y is of shape (m, 1) where column values are between 0 and 9 representing the classes directly. - 1-hot encoding\n",
    "X, Y_CNN, Y = DataPreparation(Data, interval_length, samples_per_block) \n",
    "\n",
    "\n",
    "print('Shape of Input Data =', X.shape)\n",
    "print('Shape of Label Y_CNN =', Y_CNN.shape)\n",
    "print('Shape of Label Y =', Y.shape)"
   ]
  },
  {
   "cell_type": "markdown",
   "metadata": {
    "id": "OHkoGg93RrpC"
   },
   "source": [
    "Export Input Data to MATLAB\n",
    "\n",
    "\n",
    "*   For feature Extraction - time and frequency domain analysis  \n",
    "*   For implementing Self Organizing Feature Maps using MATLAB 'nctool' feature\n",
    "\n"
   ]
  },
  {
   "cell_type": "code",
   "execution_count": 10,
   "metadata": {
    "id": "G4Qch-l5Rn3n"
   },
   "outputs": [],
   "source": [
    "XX = {'X':X}\n",
    "scipy.io.savemat('Data.mat', XX)"
   ]
  },
  {
   "cell_type": "markdown",
   "metadata": {
    "id": "F-uFyfwC-YjC"
   },
   "source": [
    "K-Fold Cross Validation "
   ]
  },
  {
   "cell_type": "code",
   "execution_count": 11,
   "metadata": {
    "id": "da_1GFBK-arw"
   },
   "outputs": [],
   "source": [
    "# k-fold cross validation \n",
    "kSplits = 5\n",
    "kfold = KFold(n_splits=kSplits, random_state=32, shuffle=True)"
   ]
  },
  {
   "cell_type": "markdown",
   "metadata": {
    "id": "jBXqHhbRMNPC"
   },
   "source": [
    "**NEURAL NETWORK MODELS**"
   ]
  },
  {
   "cell_type": "markdown",
   "metadata": {
    "id": "gHL80WK2o_mC"
   },
   "source": [
    "**1-Dimensional Convolutional Neural Network Classification**"
   ]
  },
  {
   "cell_type": "code",
   "execution_count": 12,
   "metadata": {
    "colab": {
     "base_uri": "https://localhost:8080/"
    },
    "id": "9p9VWHhd-6xE",
    "outputId": "dce5140c-5156-4389-e05e-9c992829163a"
   },
   "outputs": [
    {
     "name": "stdout",
     "output_type": "stream",
     "text": [
      "Epoch 1/12\n"
     ]
    },
    {
     "name": "stderr",
     "output_type": "stream",
     "text": [
      "2022-06-17 20:46:48.979931: I tensorflow/core/platform/cpu_feature_guard.cc:193] This TensorFlow binary is optimized with oneAPI Deep Neural Network Library (oneDNN) to use the following CPU instructions in performance-critical operations:  AVX2 FMA\n",
      "To enable them in other operations, rebuild TensorFlow with the appropriate compiler flags.\n"
     ]
    },
    {
     "name": "stdout",
     "output_type": "stream",
     "text": [
      "456/456 [==============================] - 4s 8ms/step - loss: 0.7978 - accuracy: 0.6848\n",
      "Epoch 2/12\n",
      "456/456 [==============================] - 4s 9ms/step - loss: 0.3496 - accuracy: 0.8373\n",
      "Epoch 3/12\n",
      "456/456 [==============================] - 4s 10ms/step - loss: 0.2672 - accuracy: 0.8777\n",
      "Epoch 4/12\n",
      "456/456 [==============================] - 5s 11ms/step - loss: 0.1602 - accuracy: 0.9300\n",
      "Epoch 5/12\n",
      "456/456 [==============================] - 6s 12ms/step - loss: 0.1144 - accuracy: 0.9548\n",
      "Epoch 6/12\n",
      "456/456 [==============================] - 6s 12ms/step - loss: 0.0838 - accuracy: 0.9677\n",
      "Epoch 7/12\n",
      "456/456 [==============================] - 7s 16ms/step - loss: 0.0652 - accuracy: 0.9760\n",
      "Epoch 8/12\n",
      "456/456 [==============================] - 9s 19ms/step - loss: 0.0481 - accuracy: 0.9813\n",
      "Epoch 9/12\n",
      "456/456 [==============================] - 8s 18ms/step - loss: 0.0416 - accuracy: 0.9841\n",
      "Epoch 10/12\n",
      "456/456 [==============================] - 8s 18ms/step - loss: 0.0322 - accuracy: 0.9892\n",
      "Epoch 11/12\n",
      "456/456 [==============================] - 9s 20ms/step - loss: 0.0327 - accuracy: 0.9885\n",
      "Epoch 12/12\n",
      "456/456 [==============================] - 10s 21ms/step - loss: 0.0302 - accuracy: 0.9897\n",
      "114/114 [==============================] - 1s 8ms/step - loss: 0.0977 - accuracy: 0.9662\n",
      "Epoch 1/12\n",
      "456/456 [==============================] - 10s 21ms/step - loss: 0.7766 - accuracy: 0.6901\n",
      "Epoch 2/12\n",
      "456/456 [==============================] - 9s 20ms/step - loss: 0.2780 - accuracy: 0.8698\n",
      "Epoch 3/12\n",
      "456/456 [==============================] - 10s 21ms/step - loss: 0.1754 - accuracy: 0.9173\n",
      "Epoch 4/12\n",
      "456/456 [==============================] - 10s 21ms/step - loss: 0.1240 - accuracy: 0.9488\n",
      "Epoch 5/12\n",
      "456/456 [==============================] - 9s 19ms/step - loss: 0.0782 - accuracy: 0.9703\n",
      "Epoch 6/12\n",
      "456/456 [==============================] - 10s 22ms/step - loss: 0.0558 - accuracy: 0.9797\n",
      "Epoch 7/12\n",
      "456/456 [==============================] - 10s 21ms/step - loss: 0.0434 - accuracy: 0.9851\n",
      "Epoch 8/12\n",
      "456/456 [==============================] - 10s 22ms/step - loss: 0.0356 - accuracy: 0.9857\n",
      "Epoch 9/12\n",
      "456/456 [==============================] - 9s 19ms/step - loss: 0.0430 - accuracy: 0.9850\n",
      "Epoch 10/12\n",
      "456/456 [==============================] - 10s 23ms/step - loss: 0.0287 - accuracy: 0.9897\n",
      "Epoch 11/12\n",
      "456/456 [==============================] - 10s 21ms/step - loss: 0.0322 - accuracy: 0.9885\n",
      "Epoch 12/12\n",
      "456/456 [==============================] - 9s 20ms/step - loss: 0.0223 - accuracy: 0.9921\n",
      "114/114 [==============================] - 1s 9ms/step - loss: 0.0401 - accuracy: 0.9868\n",
      "Epoch 1/12\n",
      "456/456 [==============================] - 10s 21ms/step - loss: 0.8462 - accuracy: 0.6594\n",
      "Epoch 2/12\n",
      "456/456 [==============================] - 10s 21ms/step - loss: 0.3896 - accuracy: 0.8317\n",
      "Epoch 3/12\n",
      "456/456 [==============================] - 10s 22ms/step - loss: 0.2125 - accuracy: 0.9141\n",
      "Epoch 4/12\n",
      "456/456 [==============================] - 11s 24ms/step - loss: 0.1193 - accuracy: 0.9531\n",
      "Epoch 5/12\n",
      "456/456 [==============================] - 11s 25ms/step - loss: 0.0835 - accuracy: 0.9694\n",
      "Epoch 6/12\n",
      "456/456 [==============================] - 11s 24ms/step - loss: 0.0763 - accuracy: 0.9712\n",
      "Epoch 7/12\n",
      "456/456 [==============================] - 12s 26ms/step - loss: 0.0439 - accuracy: 0.9834\n",
      "Epoch 8/12\n",
      "456/456 [==============================] - 11s 24ms/step - loss: 0.0515 - accuracy: 0.9827\n",
      "Epoch 9/12\n",
      "456/456 [==============================] - 10s 22ms/step - loss: 0.0304 - accuracy: 0.9894\n",
      "Epoch 10/12\n",
      "456/456 [==============================] - 10s 23ms/step - loss: 0.0323 - accuracy: 0.9884\n",
      "Epoch 11/12\n",
      "456/456 [==============================] - 10s 23ms/step - loss: 0.0287 - accuracy: 0.9898\n",
      "Epoch 12/12\n",
      "456/456 [==============================] - 11s 24ms/step - loss: 0.0173 - accuracy: 0.9938\n",
      "114/114 [==============================] - 1s 10ms/step - loss: 0.0230 - accuracy: 0.9901\n",
      "Epoch 1/12\n",
      "456/456 [==============================] - 11s 23ms/step - loss: 0.8199 - accuracy: 0.6777\n",
      "Epoch 2/12\n",
      "456/456 [==============================] - 10s 23ms/step - loss: 0.3517 - accuracy: 0.8463\n",
      "Epoch 3/12\n",
      "456/456 [==============================] - 11s 24ms/step - loss: 0.2500 - accuracy: 0.8920\n",
      "Epoch 4/12\n",
      "456/456 [==============================] - 10s 21ms/step - loss: 0.1817 - accuracy: 0.9175\n",
      "Epoch 5/12\n",
      "456/456 [==============================] - 10s 21ms/step - loss: 0.1460 - accuracy: 0.9327\n",
      "Epoch 6/12\n",
      "456/456 [==============================] - 10s 21ms/step - loss: 0.1199 - accuracy: 0.9480\n",
      "Epoch 7/12\n",
      "456/456 [==============================] - 10s 22ms/step - loss: 0.0995 - accuracy: 0.9623\n",
      "Epoch 8/12\n",
      "456/456 [==============================] - 9s 20ms/step - loss: 0.0501 - accuracy: 0.9818\n",
      "Epoch 9/12\n",
      "456/456 [==============================] - 9s 19ms/step - loss: 0.0401 - accuracy: 0.9847\n",
      "Epoch 10/12\n",
      "456/456 [==============================] - 8s 18ms/step - loss: 0.0316 - accuracy: 0.9889\n",
      "Epoch 11/12\n",
      "456/456 [==============================] - 9s 19ms/step - loss: 0.0303 - accuracy: 0.9898\n",
      "Epoch 12/12\n",
      "456/456 [==============================] - 9s 19ms/step - loss: 0.0341 - accuracy: 0.9866\n",
      "114/114 [==============================] - 1s 8ms/step - loss: 0.0647 - accuracy: 0.9778\n",
      "Epoch 1/12\n",
      "456/456 [==============================] - 9s 19ms/step - loss: 0.7447 - accuracy: 0.7082\n",
      "Epoch 2/12\n",
      "456/456 [==============================] - 9s 20ms/step - loss: 0.3380 - accuracy: 0.8696\n",
      "Epoch 3/12\n",
      "456/456 [==============================] - 9s 21ms/step - loss: 0.2410 - accuracy: 0.9067\n",
      "Epoch 4/12\n",
      "456/456 [==============================] - 9s 20ms/step - loss: 0.1807 - accuracy: 0.9272\n",
      "Epoch 5/12\n",
      "456/456 [==============================] - 9s 21ms/step - loss: 0.1265 - accuracy: 0.9512\n",
      "Epoch 6/12\n",
      "456/456 [==============================] - 10s 22ms/step - loss: 0.0698 - accuracy: 0.9756\n",
      "Epoch 7/12\n",
      "456/456 [==============================] - 9s 21ms/step - loss: 0.0559 - accuracy: 0.9784\n",
      "Epoch 8/12\n",
      "456/456 [==============================] - 10s 22ms/step - loss: 0.0463 - accuracy: 0.9824\n",
      "Epoch 9/12\n",
      "456/456 [==============================] - 9s 21ms/step - loss: 0.0321 - accuracy: 0.9881\n",
      "Epoch 10/12\n",
      "456/456 [==============================] - 10s 22ms/step - loss: 0.0455 - accuracy: 0.9835\n",
      "Epoch 11/12\n",
      "456/456 [==============================] - 9s 20ms/step - loss: 0.0408 - accuracy: 0.9859\n",
      "Epoch 12/12\n",
      "456/456 [==============================] - 8s 18ms/step - loss: 0.0270 - accuracy: 0.9905\n",
      "114/114 [==============================] - 1s 8ms/step - loss: 0.0516 - accuracy: 0.9846\n",
      "CNN 1D train accuracy = 98.11066627502441\n",
      "190/190 [==============================] - 1s 8ms/step - loss: 0.0482 - accuracy: 0.9817\n",
      "CNN 1D test accuracy = 98.17103147506714\n"
     ]
    }
   ],
   "source": [
    "# Reshape the data - 1 dimensional feed \n",
    "Input_1D = X.reshape([-1,1681,1])\n",
    "\n",
    "# Test-Train Split \n",
    "X_1D_train, X_1D_test, y_1D_train, y_1D_test = train_test_split(Input_1D, Y_CNN, train_size=0.75,test_size=0.25, random_state=101)\n",
    "\n",
    "# Define the CNN Classification model\n",
    "class CNN_1D():\n",
    "  def __init__(self):\n",
    "    self.model = self.CreateModel()\n",
    "\n",
    "  def CreateModel(self):\n",
    "    model = models.Sequential([\n",
    "        layers.Conv1D(filters=16, kernel_size=3, strides=2, activation='relu'),\n",
    "        layers.MaxPool1D(pool_size=2),\n",
    "        layers.Conv1D(filters=32, kernel_size=3, strides=2, activation='relu'),\n",
    "        layers.MaxPool1D(pool_size=2),\n",
    "        layers.Conv1D(filters=64, kernel_size=3, strides=2, activation='relu'),\n",
    "        layers.MaxPool1D(pool_size=2),\n",
    "        layers.Conv1D(filters=128, kernel_size=3, strides=2, activation='relu'),\n",
    "        layers.MaxPool1D(pool_size=2),\n",
    "        layers.Flatten(),\n",
    "        layers.InputLayer(),\n",
    "        layers.Dense(100,activation='relu'),\n",
    "        layers.Dense(50,activation='relu'),\n",
    "        layers.Dense(10),\n",
    "        layers.Softmax()\n",
    "        ])\n",
    "    model.compile(optimizer='adam',\n",
    "              loss=tf.keras.losses.CategoricalCrossentropy(),\n",
    "              metrics=['accuracy'])\n",
    "    return model\n",
    "\n",
    "\n",
    "accuracy_1D = []\n",
    "\n",
    "# Train the model \n",
    "for train, test in kfold.split(X_1D_train,y_1D_train):\n",
    "  Classification_1D = CNN_1D()\n",
    "  history = Classification_1D.model.fit(X_1D_train[train], y_1D_train[train], verbose=1, epochs=12)\n",
    "\n",
    "  # Evaluate the accuracy of the model on the training set \n",
    "  kf_loss, kf_accuracy = Classification_1D.model.evaluate(X_1D_train[test], y_1D_train[test]) \n",
    "  accuracy_1D.append(kf_accuracy)\n",
    "\n",
    "CNN_1D_train_accuracy = np.average(accuracy_1D)*100\n",
    "print('CNN 1D train accuracy =', CNN_1D_train_accuracy)\n",
    "\n",
    "\n",
    "# Evaluate the accuracy of the model on the test set\n",
    "CNN_1D_test_loss, CNN_1D_test_accuracy = Classification_1D.model.evaluate(X_1D_test, y_1D_test)\n",
    "CNN_1D_test_accuracy*=100\n",
    "print('CNN 1D test accuracy =', CNN_1D_test_accuracy)\n",
    "\n"
   ]
  },
  {
   "cell_type": "markdown",
   "metadata": {
    "id": "P_FS5v08Kkam"
   },
   "source": [
    "Confusion Matrix Calculation"
   ]
  },
  {
   "cell_type": "code",
   "execution_count": 13,
   "metadata": {
    "id": "k9FMTohLKOvZ"
   },
   "outputs": [],
   "source": [
    "def ConfusionMatrix(Model, X, y):\n",
    "  y_pred = np.argmax(Model.model.predict(X), axis=1)\n",
    "  ConfusionMat = confusion_matrix(np.argmax(y, axis=1), y_pred)\n",
    "  return ConfusionMat"
   ]
  },
  {
   "cell_type": "markdown",
   "metadata": {
    "id": "FggL2GFnKnzz"
   },
   "source": [
    "Plot results - CNN 1D"
   ]
  },
  {
   "cell_type": "code",
   "execution_count": 14,
   "metadata": {
    "colab": {
     "base_uri": "https://localhost:8080/",
     "height": 1000
    },
    "id": "n4tdaGwsu9Aq",
    "outputId": "b44f92f4-c0fb-4bd9-d8ca-cd92b7b1f359"
   },
   "outputs": [
    {
     "name": "stdout",
     "output_type": "stream",
     "text": [
      "569/569 [==============================] - 5s 9ms/step\n"
     ]
    },
    {
     "data": {
      "image/png": "[encoded data removed]",
      "text/plain": [
       "<Figure size 432x288 with 2 Axes>"
      ]
     },
     "metadata": {
      "needs_background": "light"
     },
     "output_type": "display_data"
    },
    {
     "name": "stdout",
     "output_type": "stream",
     "text": [
      "190/190 [==============================] - 2s 10ms/step\n"
     ]
    },
    {
     "data": {
      "image/png": "[encoded data removed]",
      "text/plain": [
       "<Figure size 432x288 with 2 Axes>"
      ]
     },
     "metadata": {
      "needs_background": "light"
     },
     "output_type": "display_data"
    },
    {
     "data": {
      "image/png": "[encoded data removed]",
      "text/plain": [
       "<Figure size 432x288 with 1 Axes>"
      ]
     },
     "metadata": {
      "needs_background": "light"
     },
     "output_type": "display_data"
    },
    {
     "data": {
      "image/png": "[encoded data removed]",
      "text/plain": [
       "<Figure size 432x288 with 1 Axes>"
      ]
     },
     "metadata": {
      "needs_background": "light"
     },
     "output_type": "display_data"
    }
   ],
   "source": [
    "plt.figure(1)\n",
    "plt.title('Confusion Matrix - CNN 1D Train') \n",
    "sns.heatmap(ConfusionMatrix(Classification_1D, X_1D_train, y_1D_train) , annot=True, fmt='d',annot_kws={\"fontsize\":8},cmap=\"YlGnBu\")\n",
    "plt.show()\n",
    "\n",
    "plt.figure(2)\n",
    "plt.title('Confusion Matrix - CNN 1D Test') \n",
    "sns.heatmap(ConfusionMatrix(Classification_1D, X_1D_test, y_1D_test) , annot=True, fmt='d',annot_kws={\"fontsize\":8},cmap=\"YlGnBu\")\n",
    "plt.show()\n",
    "\n",
    "plt.figure(3)\n",
    "plt.title('Train - Accuracy - CNN 1D')\n",
    "plt.bar(np.arange(1,kSplits+1),[i*100 for i in accuracy_1D])\n",
    "plt.ylabel('accuracy')\n",
    "plt.xlabel('folds')\n",
    "plt.ylim([70,100])\n",
    "plt.show()\n",
    "\n",
    "plt.figure(4)\n",
    "plt.title('Train vs Test Accuracy - CNN 1D')\n",
    "plt.bar([1,2],[CNN_1D_train_accuracy,CNN_1D_test_accuracy])\n",
    "plt.ylabel('accuracy')\n",
    "plt.xlabel('folds')\n",
    "plt.xticks([1,2],['Train', 'Test'])\n",
    "plt.ylim([70,100])\n",
    "plt.show()"
   ]
  },
  {
   "cell_type": "markdown",
   "metadata": {
    "id": "eAay05w8pG2l"
   },
   "source": [
    "**2-Dimensional Convolutional Neural Network Classification**"
   ]
  },
  {
   "cell_type": "code",
   "execution_count": 15,
   "metadata": {
    "colab": {
     "base_uri": "https://localhost:8080/"
    },
    "id": "nPS9KUU-_ECb",
    "outputId": "cbd890a8-4d01-4a6c-e0f5-a79a13bafcf4"
   },
   "outputs": [
    {
     "name": "stdout",
     "output_type": "stream",
     "text": [
      "Epoch 1/12\n",
      "456/456 [==============================] - 5s 10ms/step - loss: 0.9475 - accuracy: 0.6419\n",
      "Epoch 2/12\n",
      "456/456 [==============================] - 5s 12ms/step - loss: 0.4597 - accuracy: 0.8116\n",
      "Epoch 3/12\n",
      "456/456 [==============================] - 6s 13ms/step - loss: 0.3371 - accuracy: 0.8614\n",
      "Epoch 4/12\n",
      "456/456 [==============================] - 5s 12ms/step - loss: 0.2685 - accuracy: 0.8910\n",
      "Epoch 5/12\n",
      "456/456 [==============================] - 6s 13ms/step - loss: 0.2226 - accuracy: 0.9093\n",
      "Epoch 6/12\n",
      "456/456 [==============================] - 6s 14ms/step - loss: 0.1827 - accuracy: 0.9276\n",
      "Epoch 7/12\n",
      "456/456 [==============================] - 6s 14ms/step - loss: 0.1365 - accuracy: 0.9482\n",
      "Epoch 8/12\n",
      "456/456 [==============================] - 5s 11ms/step - loss: 0.1100 - accuracy: 0.9596\n",
      "Epoch 9/12\n",
      "456/456 [==============================] - 5s 12ms/step - loss: 0.0844 - accuracy: 0.9691\n",
      "Epoch 10/12\n",
      "456/456 [==============================] - 5s 12ms/step - loss: 0.0714 - accuracy: 0.9751\n",
      "Epoch 11/12\n",
      "456/456 [==============================] - 5s 12ms/step - loss: 0.0650 - accuracy: 0.9755\n",
      "Epoch 12/12\n",
      "456/456 [==============================] - 5s 11ms/step - loss: 0.0621 - accuracy: 0.9780\n",
      "114/114 [==============================] - 1s 5ms/step - loss: 0.1120 - accuracy: 0.9660\n",
      "Epoch 1/12\n",
      "456/456 [==============================] - 6s 12ms/step - loss: 0.8965 - accuracy: 0.6610\n",
      "Epoch 2/12\n",
      "456/456 [==============================] - 5s 11ms/step - loss: 0.3392 - accuracy: 0.8582\n",
      "Epoch 3/12\n",
      "456/456 [==============================] - 5s 10ms/step - loss: 0.2791 - accuracy: 0.8820\n",
      "Epoch 4/12\n",
      "456/456 [==============================] - 5s 11ms/step - loss: 0.2479 - accuracy: 0.8955\n",
      "Epoch 5/12\n",
      "456/456 [==============================] - 6s 12ms/step - loss: 0.2188 - accuracy: 0.9086\n",
      "Epoch 6/12\n",
      "456/456 [==============================] - 5s 11ms/step - loss: 0.1686 - accuracy: 0.9315\n",
      "Epoch 7/12\n",
      "456/456 [==============================] - 4s 9ms/step - loss: 0.1550 - accuracy: 0.9392\n",
      "Epoch 8/12\n",
      "456/456 [==============================] - 5s 10ms/step - loss: 0.1376 - accuracy: 0.9458\n",
      "Epoch 9/12\n",
      "456/456 [==============================] - 4s 9ms/step - loss: 0.1277 - accuracy: 0.9514\n",
      "Epoch 10/12\n",
      "456/456 [==============================] - 4s 8ms/step - loss: 0.1056 - accuracy: 0.9607\n",
      "Epoch 11/12\n",
      "456/456 [==============================] - 4s 8ms/step - loss: 0.0818 - accuracy: 0.9683\n",
      "Epoch 12/12\n",
      "456/456 [==============================] - 4s 9ms/step - loss: 0.0827 - accuracy: 0.9694\n",
      "114/114 [==============================] - 1s 4ms/step - loss: 0.1248 - accuracy: 0.9544\n",
      "Epoch 1/12\n",
      "456/456 [==============================] - 6s 11ms/step - loss: 0.9780 - accuracy: 0.6236\n",
      "Epoch 2/12\n",
      "456/456 [==============================] - 5s 12ms/step - loss: 0.4468 - accuracy: 0.8186\n",
      "Epoch 3/12\n",
      "456/456 [==============================] - 5s 11ms/step - loss: 0.3328 - accuracy: 0.8649\n",
      "Epoch 4/12\n",
      "456/456 [==============================] - 4s 9ms/step - loss: 0.2810 - accuracy: 0.8829\n",
      "Epoch 5/12\n",
      "456/456 [==============================] - 4s 10ms/step - loss: 0.2507 - accuracy: 0.8972\n",
      "Epoch 6/12\n",
      "456/456 [==============================] - 5s 11ms/step - loss: 0.2335 - accuracy: 0.9042\n",
      "Epoch 7/12\n",
      "456/456 [==============================] - 5s 11ms/step - loss: 0.2024 - accuracy: 0.9175\n",
      "Epoch 8/12\n",
      "456/456 [==============================] - 5s 11ms/step - loss: 0.1760 - accuracy: 0.9284\n",
      "Epoch 9/12\n",
      "456/456 [==============================] - 5s 10ms/step - loss: 0.1573 - accuracy: 0.9359\n",
      "Epoch 10/12\n",
      "456/456 [==============================] - 5s 10ms/step - loss: 0.1499 - accuracy: 0.9397\n",
      "Epoch 11/12\n",
      "456/456 [==============================] - 5s 11ms/step - loss: 0.1266 - accuracy: 0.9513\n",
      "Epoch 12/12\n",
      "456/456 [==============================] - 5s 11ms/step - loss: 0.1063 - accuracy: 0.9602\n",
      "114/114 [==============================] - 1s 6ms/step - loss: 0.2075 - accuracy: 0.9234\n",
      "Epoch 1/12\n",
      "456/456 [==============================] - 5s 11ms/step - loss: 0.9645 - accuracy: 0.6383\n",
      "Epoch 2/12\n",
      "456/456 [==============================] - 5s 12ms/step - loss: 0.4135 - accuracy: 0.8328\n",
      "Epoch 3/12\n",
      "456/456 [==============================] - 5s 12ms/step - loss: 0.3194 - accuracy: 0.8715\n",
      "Epoch 4/12\n",
      "456/456 [==============================] - 5s 12ms/step - loss: 0.2662 - accuracy: 0.8912\n",
      "Epoch 5/12\n",
      "456/456 [==============================] - 5s 11ms/step - loss: 0.2391 - accuracy: 0.8996\n",
      "Epoch 6/12\n",
      "456/456 [==============================] - 4s 9ms/step - loss: 0.2169 - accuracy: 0.9112\n",
      "Epoch 7/12\n",
      "456/456 [==============================] - 4s 8ms/step - loss: 0.1936 - accuracy: 0.9213\n",
      "Epoch 8/12\n",
      "456/456 [==============================] - 4s 9ms/step - loss: 0.1776 - accuracy: 0.9298\n",
      "Epoch 9/12\n",
      "456/456 [==============================] - 4s 9ms/step - loss: 0.1539 - accuracy: 0.9382\n",
      "Epoch 10/12\n",
      "456/456 [==============================] - 4s 9ms/step - loss: 0.1255 - accuracy: 0.9524\n",
      "Epoch 11/12\n",
      "456/456 [==============================] - 4s 10ms/step - loss: 0.1203 - accuracy: 0.9539\n",
      "Epoch 12/12\n",
      "456/456 [==============================] - 5s 10ms/step - loss: 0.0928 - accuracy: 0.9639\n",
      "114/114 [==============================] - 1s 5ms/step - loss: 0.1254 - accuracy: 0.9525\n",
      "Epoch 1/12\n",
      "456/456 [==============================] - 5s 9ms/step - loss: 0.9578 - accuracy: 0.6272\n",
      "Epoch 2/12\n",
      "456/456 [==============================] - 4s 10ms/step - loss: 0.4290 - accuracy: 0.8335\n",
      "Epoch 3/12\n",
      "456/456 [==============================] - 4s 9ms/step - loss: 0.3022 - accuracy: 0.8775\n",
      "Epoch 4/12\n",
      "456/456 [==============================] - 4s 9ms/step - loss: 0.2475 - accuracy: 0.9004\n",
      "Epoch 5/12\n",
      "456/456 [==============================] - 4s 10ms/step - loss: 0.2244 - accuracy: 0.9117\n",
      "Epoch 6/12\n",
      "456/456 [==============================] - 5s 10ms/step - loss: 0.1807 - accuracy: 0.9307\n",
      "Epoch 7/12\n",
      "456/456 [==============================] - 4s 10ms/step - loss: 0.1353 - accuracy: 0.9516\n",
      "Epoch 8/12\n",
      "456/456 [==============================] - 5s 10ms/step - loss: 0.0977 - accuracy: 0.9653\n",
      "Epoch 9/12\n",
      "456/456 [==============================] - 5s 10ms/step - loss: 0.0807 - accuracy: 0.9721\n",
      "Epoch 10/12\n",
      "456/456 [==============================] - 5s 10ms/step - loss: 0.0699 - accuracy: 0.9748\n",
      "Epoch 11/12\n",
      "456/456 [==============================] - 5s 10ms/step - loss: 0.0571 - accuracy: 0.9795\n",
      "Epoch 12/12\n",
      "456/456 [==============================] - 5s 11ms/step - loss: 0.0548 - accuracy: 0.9793\n",
      "114/114 [==============================] - 1s 5ms/step - loss: 0.0777 - accuracy: 0.9739\n",
      "CNN 2D train accuracy = 95.40279746055603\n",
      "190/190 [==============================] - 1s 5ms/step - loss: 0.0835 - accuracy: 0.9725\n",
      "CNN 2D test accuracy = 97.24830985069275\n"
     ]
    }
   ],
   "source": [
    "# Reshape the data - 2 dimensional feed \n",
    "Input_2D = X.reshape([-1,41,41,1])\n",
    "\n",
    "# Test-Train Split \n",
    "X_2D_train, X_2D_test, y_2D_train, y_2D_test = train_test_split(Input_2D, Y_CNN, train_size=0.75,test_size=0.25, random_state=101)\n",
    "\n",
    "# Define the CNN Classification model\n",
    "class CNN_2D():\n",
    "  def __init__(self):\n",
    "    self.model = self.CreateModel()\n",
    "\n",
    "  def CreateModel(self):\n",
    "    model = models.Sequential([\n",
    "        layers.Conv2D(filters=16, kernel_size=(3,3), strides=(2,2), padding ='same',activation='relu'),\n",
    "        layers.MaxPool2D(pool_size=(2,2), padding='same'),\n",
    "        layers.Conv2D(filters=32, kernel_size=(3,3),strides=(2,2), padding ='same',activation='relu'),\n",
    "        layers.MaxPool2D(pool_size=(2,2), padding='same'),\n",
    "        layers.Conv2D(filters=64, kernel_size=(3,3),strides=(2,2),padding ='same', activation='relu'),\n",
    "        layers.MaxPool2D(pool_size=(2,2), padding='same'),\n",
    "        layers.Conv2D(filters=128, kernel_size=(3,3),strides=(2,2),padding ='same', activation='relu'),\n",
    "        layers.MaxPool2D(pool_size=(2,2), padding='same'),\n",
    "        layers.Flatten(),\n",
    "        layers.InputLayer(),\n",
    "        layers.Dense(100,activation='relu'),\n",
    "        layers.Dense(50,activation='relu'),\n",
    "        layers.Dense(10),\n",
    "        layers.Softmax()\n",
    "        ])\n",
    "    model.compile(optimizer='adam',\n",
    "              loss=tf.keras.losses.CategoricalCrossentropy(),\n",
    "              metrics=['accuracy'])\n",
    "    return model\n",
    "\n",
    "\n",
    "accuracy_2D = []\n",
    "\n",
    "# Train the model \n",
    "for train, test in kfold.split(X_2D_train,y_2D_train):\n",
    "  Classification_2D = CNN_2D()\n",
    "  history = Classification_2D.model.fit(X_2D_train[train], y_2D_train[train], verbose=1, epochs=12)\n",
    "\n",
    "  # Evaluate the accuracy of the model on the training set \n",
    "  kf_loss, kf_accuracy = Classification_2D.model.evaluate(X_2D_train[test], y_2D_train[test]) \n",
    "  accuracy_2D.append(kf_accuracy)\n",
    "\n",
    "CNN_2D_train_accuracy = np.average(accuracy_2D)*100\n",
    "print('CNN 2D train accuracy =', CNN_2D_train_accuracy)\n",
    "\n",
    "\n",
    "# Evaluate the accuracy of the model on the test set\n",
    "CNN_2D_test_loss, CNN_2D_test_accuracy = Classification_2D.model.evaluate(X_2D_test, y_2D_test)\n",
    "CNN_2D_test_accuracy*=100\n",
    "print('CNN 2D test accuracy =', CNN_2D_test_accuracy)\n",
    "\n"
   ]
  },
  {
   "cell_type": "markdown",
   "metadata": {
    "id": "Hs1T1f3FBlOt"
   },
   "source": [
    "Plot results - CNN 2D"
   ]
  },
  {
   "cell_type": "code",
   "execution_count": 16,
   "metadata": {
    "colab": {
     "base_uri": "https://localhost:8080/",
     "height": 1000
    },
    "id": "35JSF0ao0LnX",
    "outputId": "81ed07bd-4450-4222-bfae-bcd6a2e12388"
   },
   "outputs": [
    {
     "name": "stdout",
     "output_type": "stream",
     "text": [
      "569/569 [==============================] - 3s 6ms/step\n"
     ]
    },
    {
     "data": {
      "image/png": "[encoded data removed]",
      "text/plain": [
       "<Figure size 432x288 with 2 Axes>"
      ]
     },
     "metadata": {
      "needs_background": "light"
     },
     "output_type": "display_data"
    },
    {
     "name": "stdout",
     "output_type": "stream",
     "text": [
      "190/190 [==============================] - 1s 6ms/step\n"
     ]
    },
    {
     "data": {
      "image/png": "[encoded data removed]",
      "text/plain": [
       "<Figure size 432x288 with 2 Axes>"
      ]
     },
     "metadata": {
      "needs_background": "light"
     },
     "output_type": "display_data"
    },
    {
     "data": {
      "image/png": "[encoded data removed]",
      "text/plain": [
       "<Figure size 432x288 with 1 Axes>"
      ]
     },
     "metadata": {
      "needs_background": "light"
     },
     "output_type": "display_data"
    },
    {
     "data": {
      "image/png": "[encoded data removed]",
      "text/plain": [
       "<Figure size 432x288 with 1 Axes>"
      ]
     },
     "metadata": {
      "needs_background": "light"
     },
     "output_type": "display_data"
    }
   ],
   "source": [
    "plt.figure(5)\n",
    "plt.title('Confusion Matrix - CNN 2D Train') \n",
    "sns.heatmap(ConfusionMatrix(Classification_2D, X_2D_train, y_2D_train) , annot=True, fmt='d',annot_kws={\"fontsize\":8},cmap=\"YlGnBu\")\n",
    "plt.show()\n",
    "\n",
    "plt.figure(6)\n",
    "plt.title('Confusion Matrix - CNN 2D Test') \n",
    "sns.heatmap(ConfusionMatrix(Classification_2D, X_2D_test, y_2D_test) , annot=True, fmt='d',annot_kws={\"fontsize\":8},cmap=\"YlGnBu\")\n",
    "plt.show()\n",
    "\n",
    "plt.figure(7)\n",
    "plt.title('Train - Accuracy - CNN 2D')\n",
    "plt.bar(np.arange(1,kSplits+1),[i*100 for i in accuracy_2D])\n",
    "plt.ylabel('accuracy')\n",
    "plt.xlabel('folds')\n",
    "plt.ylim([70,100])\n",
    "plt.show()\n",
    "\n",
    "plt.figure(8)\n",
    "plt.title('Train vs Test Accuracy - CNN 2D')\n",
    "plt.bar([1,2],[CNN_2D_train_accuracy,CNN_2D_test_accuracy])\n",
    "plt.ylabel('accuracy')\n",
    "plt.xlabel('folds')\n",
    "plt.xticks([1,2],['Train', 'Test'])\n",
    "plt.ylim([70,100])\n",
    "plt.show()"
   ]
  },
  {
   "cell_type": "markdown",
   "metadata": {
    "id": "-u5DJtLDpLp2"
   },
   "source": [
    "## Machine Learning Model"
   ]
  },
  {
   "cell_type": "markdown",
   "metadata": {
    "id": "vLQcDnczNvBx"
   },
   "source": [
    "**SUPPORT VECTOR MACHINE MODEL** "
   ]
  },
  {
   "cell_type": "markdown",
   "metadata": {
    "id": "f2uDbv0CPud6"
   },
   "source": [
    "Import Feature Data\n",
    "\n",
    "\n",
    "*   The input data has been pre processed in MATLAB to extract the features like max, min, peak-to-peak, mean, variance, standard deviation, root-mean-square, skewness, crest factor, kurtosis in time domain, and amplitude and value of the maximum frequency in the frequency domains.\n",
    "\n",
    "\n",
    "\n",
    "\n"
   ]
  },
  {
   "cell_type": "code",
   "execution_count": 17,
   "metadata": {
    "colab": {
     "base_uri": "https://localhost:8080/"
    },
    "id": "cqlogEcjlz_Q",
    "outputId": "1ee19d73-be21-4ddf-ca10-d11778286a13"
   },
   "outputs": [
    {
     "data": {
      "text/plain": [
       "(24276, 12)"
      ]
     },
     "execution_count": 17,
     "metadata": {},
     "output_type": "execute_result"
    }
   ],
   "source": [
    "X_Features = scipy.io.loadmat('./BearingData_CaseWestern/X_Features.mat')['Feature_Data']\n",
    "\n",
    "# Feature data shape (no. of samples, no. of features)\n",
    "X_Features.shape\n"
   ]
  },
  {
   "cell_type": "code",
   "execution_count": 19,
   "metadata": {},
   "outputs": [
    {
     "name": "stdout",
     "output_type": "stream",
     "text": [
      "\u001b[33mDEPRECATION: Configuring installation scheme with distutils config files is deprecated and will no longer work in the near future. If you are using a Homebrew or Linuxbrew Python, please see discussion at https://github.com/Homebrew/homebrew-core/issues/76621\u001b[0m\u001b[33m\n",
      "\u001b[0mCollecting tqdm\n",
      "  Downloading tqdm-4.64.0-py2.py3-none-any.whl (78 kB)\n",
      "\u001b[2K     \u001b[38;2;114;156;31m━━━━━━━━━━━━━━━━━━━━━━━━━━━━━━━━━━━━━━━\u001b[0m \u001b[32m78.4/78.4 KB\u001b[0m \u001b[31m501.1 kB/s\u001b[0m eta \u001b[36m0:00:00\u001b[0m kB/s\u001b[0m eta \u001b[36m0:00:01\u001b[0m\n",
      "\u001b[?25hInstalling collected packages: tqdm\n",
      "\u001b[33m  DEPRECATION: Configuring installation scheme with distutils config files is deprecated and will no longer work in the near future. If you are using a Homebrew or Linuxbrew Python, please see discussion at https://github.com/Homebrew/homebrew-core/issues/76621\u001b[0m\u001b[33m\n",
      "\u001b[0m\u001b[33mDEPRECATION: Configuring installation scheme with distutils config files is deprecated and will no longer work in the near future. If you are using a Homebrew or Linuxbrew Python, please see discussion at https://github.com/Homebrew/homebrew-core/issues/76621\u001b[0m\u001b[33m\n",
      "\u001b[0mSuccessfully installed tqdm-4.64.0\n",
      "\u001b[33mWARNING: You are using pip version 22.0.4; however, version 22.1.2 is available.\n",
      "You should consider upgrading via the '/usr/local/opt/python@3.9/bin/python3.9 -m pip install --upgrade pip' command.\u001b[0m\u001b[33m\n",
      "\u001b[0m"
     ]
    }
   ],
   "source": [
    "! pip3 install tqdm"
   ]
  },
  {
   "cell_type": "markdown",
   "metadata": {
    "id": "b3i-ChOpQ_FT"
   },
   "source": [
    "Import packages and dependencies "
   ]
  },
  {
   "cell_type": "code",
   "execution_count": 25,
   "metadata": {
    "id": "uWMWmRqDRBx7"
   },
   "outputs": [],
   "source": [
    "from sklearn.decomposition import PCA\n",
    "from sklearn.svm import SVC\n",
    "from sklearn.pipeline import Pipeline \n",
    "from sklearn.model_selection import GridSearchCV\n",
    "from sklearn.preprocessing import StandardScaler\n",
    "from sklearn.decomposition import PCA\n",
    "from tqdm import tqdm_notebook as tqdm \n",
    "import warnings \n",
    "warnings.filterwarnings('ignore')"
   ]
  },
  {
   "cell_type": "markdown",
   "metadata": {
    "id": "CLw6bPtjXdyj"
   },
   "source": [
    "Normalize the Input Data"
   ]
  },
  {
   "cell_type": "code",
   "execution_count": 26,
   "metadata": {
    "id": "V1cnvgm8XhOO"
   },
   "outputs": [],
   "source": [
    "X_Norm = StandardScaler().fit_transform(X_Features)"
   ]
  },
  {
   "cell_type": "markdown",
   "metadata": {
    "id": "eEgJwAinSzuq"
   },
   "source": [
    "Dimensionality Reduction - Principal Component Analysis "
   ]
  },
  {
   "cell_type": "code",
   "execution_count": 27,
   "metadata": {
    "id": "AWLGjVszSlmE"
   },
   "outputs": [],
   "source": [
    "pca = PCA(n_components=5)\n",
    "Input_SVM_np = pca.fit_transform(X_Norm)\n",
    "Input_SVM = pd.DataFrame(data = Input_SVM_np)\n",
    "Label_SVM = pd.DataFrame(Y, columns = ['target'])"
   ]
  },
  {
   "cell_type": "markdown",
   "metadata": {
    "id": "A33bNiK-v1cq"
   },
   "source": [
    "Define Parameters "
   ]
  },
  {
   "cell_type": "code",
   "execution_count": 28,
   "metadata": {
    "id": "bZq3JOZKv4l2"
   },
   "outputs": [],
   "source": [
    "parameters = {'kernel':('rbf','poly','sigmoid'),\n",
    "              'C': [0.01, 1],\n",
    "              'gamma' : [0.01, 1],\n",
    "              'decision_function_shape' : ['ovo']}\n",
    "\n",
    "# Support vector Machine  \n",
    "svm = SVC()"
   ]
  },
  {
   "cell_type": "markdown",
   "metadata": {
    "id": "0U6pP5TLVrbg"
   },
   "source": [
    "Train the Model"
   ]
  },
  {
   "cell_type": "code",
   "execution_count": 29,
   "metadata": {
    "colab": {
     "base_uri": "https://localhost:8080/"
    },
    "id": "oe8JILW7T05t",
    "outputId": "3213e478-90de-475e-ec1c-95b483292281"
   },
   "outputs": [
    {
     "name": "stdout",
     "output_type": "stream",
     "text": [
      "Best parameters =  {'C': 1, 'decision_function_shape': 'ovo', 'gamma': 1, 'kernel': 'rbf'}\n",
      "SVM train accuracy = 92.81046553069329\n",
      "SVM test accuracy = 92.55231504366452\n"
     ]
    }
   ],
   "source": [
    "# Test-Train Split \n",
    "X_train_SVM, X_test_SVM, y_train_SVM, y_test_SVM = train_test_split(Input_SVM_np, Y, train_size=0.75,test_size=0.25, random_state=101)\n",
    "\n",
    "# Train the model to obtain the best parameters\n",
    "svm_cv = GridSearchCV(svm, parameters, cv=5)\n",
    "svm_cv.fit(X_train_SVM, y_train_SVM)\n",
    "\n",
    "print(\"Best parameters = \",svm_cv.best_params_)\n",
    "\n",
    "SVM_train_accuracy = svm_cv.best_score_*100\n",
    "print('SVM train accuracy =', SVM_train_accuracy)\n",
    "\n",
    "# Evaluate the accuracy of the model on the test set\n",
    "SVM_test_accuracy = svm_cv.score(X_test_SVM, y_test_SVM) \n",
    "SVM_test_accuracy*=100\n",
    "print('SVM test accuracy =', SVM_test_accuracy)\n"
   ]
  },
  {
   "cell_type": "markdown",
   "metadata": {
    "id": "HCNKYkmW4Nfn"
   },
   "source": [
    "Plot results - SVM"
   ]
  },
  {
   "cell_type": "code",
   "execution_count": 30,
   "metadata": {
    "colab": {
     "base_uri": "https://localhost:8080/",
     "height": 841
    },
    "id": "m_JjYUqnUjfR",
    "outputId": "80aa0393-2787-4aa6-f7ad-d8dc8b5da8e8"
   },
   "outputs": [
    {
     "name": "stdout",
     "output_type": "stream",
     "text": [
      "0.9367276322293623\n"
     ]
    },
    {
     "data": {
      "image/png": "[encoded data removed]",
      "text/plain": [
       "<Figure size 432x288 with 2 Axes>"
      ]
     },
     "metadata": {
      "needs_background": "light"
     },
     "output_type": "display_data"
    },
    {
     "data": {
      "image/png": "[encoded data removed]",
      "text/plain": [
       "<Figure size 432x288 with 2 Axes>"
      ]
     },
     "metadata": {
      "needs_background": "light"
     },
     "output_type": "display_data"
    },
    {
     "data": {
      "image/png": "[encoded data removed]",
      "text/plain": [
       "<Figure size 432x288 with 1 Axes>"
      ]
     },
     "metadata": {
      "needs_background": "light"
     },
     "output_type": "display_data"
    }
   ],
   "source": [
    "def ConfusionMatrix_SVM(Model, X, y):\n",
    "  y_pred = Model.predict(X)\n",
    "  ConfusionMat = confusion_matrix(y, y_pred)\n",
    "  return ConfusionMat\n",
    "\n",
    "print(svm_cv.score(X_train_SVM, y_train_SVM))\n",
    "\n",
    "plt.figure(13)\n",
    "plt.title('Confusion Matrix - SVM Train') \n",
    "sns.heatmap(ConfusionMatrix_SVM(svm_cv, X_train_SVM, y_train_SVM) , annot=True, fmt='d',annot_kws={\"fontsize\":8},cmap=\"YlGnBu\")\n",
    "plt.show()\n",
    "\n",
    "plt.figure(14)\n",
    "plt.title('Confusion Matrix - SVM Test') \n",
    "sns.heatmap(ConfusionMatrix_SVM(svm_cv, X_test_SVM, y_test_SVM) , annot=True, fmt='d',annot_kws={\"fontsize\":8},cmap=\"YlGnBu\")\n",
    "plt.show()\n",
    "\n",
    "plt.figure(16)\n",
    "plt.title('Train vs Test Accuracy - SVM')\n",
    "plt.bar([1,2],[SVM_train_accuracy,SVM_test_accuracy])\n",
    "plt.ylabel('accuracy')\n",
    "plt.xlabel('folds')\n",
    "plt.xticks([1,2],['Train', 'Test'])\n",
    "plt.ylim([70,100])\n",
    "plt.show()"
   ]
  },
  {
   "cell_type": "markdown",
   "metadata": {
    "id": "TWtfHe914cqC"
   },
   "source": [
    "Plot Decision boundaries in 2D"
   ]
  },
  {
   "cell_type": "code",
   "execution_count": 31,
   "metadata": {
    "colab": {
     "base_uri": "https://localhost:8080/",
     "height": 559
    },
    "id": "Mos40YiDxEez",
    "outputId": "14e525b2-bbe9-49cc-8209-59a8bdd19923"
   },
   "outputs": [
    {
     "ename": "ModuleNotFoundError",
     "evalue": "No module named 'mlxtend'",
     "output_type": "error",
     "traceback": [
      "\u001b[0;31m---------------------------------------------------------------------------\u001b[0m",
      "\u001b[0;31mModuleNotFoundError\u001b[0m                       Traceback (most recent call last)",
      "Input \u001b[0;32mIn [31]\u001b[0m, in \u001b[0;36m<cell line: 1>\u001b[0;34m()\u001b[0m\n\u001b[0;32m----> 1\u001b[0m \u001b[38;5;28;01mfrom\u001b[39;00m \u001b[38;5;21;01mmlxtend\u001b[39;00m\u001b[38;5;21;01m.\u001b[39;00m\u001b[38;5;21;01mplotting\u001b[39;00m \u001b[38;5;28;01mimport\u001b[39;00m plot_decision_regions\n\u001b[1;32m      2\u001b[0m value \u001b[38;5;241m=\u001b[39m \u001b[38;5;241m0\u001b[39m\n\u001b[1;32m      3\u001b[0m width \u001b[38;5;241m=\u001b[39m \u001b[38;5;241m1\u001b[39m\n",
      "\u001b[0;31mModuleNotFoundError\u001b[0m: No module named 'mlxtend'"
     ]
    }
   ],
   "source": [
    "from mlxtend.plotting import plot_decision_regions\n",
    "value = 0\n",
    "width = 1\n",
    "plt.figure(17)\n",
    "plt.figure(figsize=(10.4,8.8))\n",
    "plt.title('Decision Boundary - SVM')\n",
    "plot_decision_regions(X_test_SVM, (y_test_SVM.astype(np.integer)).flatten(), clf=svm_cv, legend=2,\n",
    "                  feature_index=[0,1],\n",
    "                  filler_feature_values={2:value, 3:value, 4:value},\n",
    "                  filler_feature_ranges={2:width, 3:width, 4:width},)\n",
    "plt.show()"
   ]
  },
  {
   "cell_type": "markdown",
   "metadata": {
    "id": "poCzYIwIco13"
   },
   "source": [
    "**COMPARISON OF MODELS**"
   ]
  },
  {
   "cell_type": "code",
   "execution_count": 32,
   "metadata": {
    "colab": {
     "base_uri": "https://localhost:8080/",
     "height": 573
    },
    "id": "v7BcZ5Dscpxo",
    "outputId": "06416d5c-553b-4d5e-bcdb-ef26cff467c7"
   },
   "outputs": [
    {
     "data": {
      "image/png": "[encoded data removed]",
      "text/plain": [
       "<Figure size 432x288 with 1 Axes>"
      ]
     },
     "metadata": {
      "needs_background": "light"
     },
     "output_type": "display_data"
    },
    {
     "data": {
      "image/png": "[encoded data removed]",
      "text/plain": [
       "<Figure size 432x288 with 1 Axes>"
      ]
     },
     "metadata": {
      "needs_background": "light"
     },
     "output_type": "display_data"
    }
   ],
   "source": [
    "plt.figure(18)\n",
    "plt.title('Accuracy in Training data')\n",
    "plt.bar([1,2,3],[CNN_1D_train_accuracy, CNN_2D_train_accuracy, SVM_train_accuracy])\n",
    "plt.ylabel('accuracy')\n",
    "plt.xlabel('folds')\n",
    "plt.xticks([1,2,3],['CNN-1D', 'CNN-2D' , 'SVM'])\n",
    "plt.ylim([70,100])\n",
    "plt.show()\n",
    "\n",
    "\n",
    "plt.figure(19)\n",
    "plt.title('Accuracy in Test data')\n",
    "plt.bar([1,2,3],[CNN_1D_test_accuracy, CNN_2D_test_accuracy, SVM_test_accuracy])\n",
    "plt.ylabel('accuracy')\n",
    "plt.xlabel('folds')\n",
    "plt.xticks([1,2,3],['CNN-1D', 'CNN-2D' , 'SVM'])\n",
    "plt.ylim([70,100])\n",
    "plt.show()"
   ]
  },
  {
   "cell_type": "code",
   "execution_count": null,
   "metadata": {},
   "outputs": [],
   "source": []
  }
 ],
 "metadata": {
  "colab": {
   "authorship_tag": "ABX9TyMDoN2VKvzUUjQ0qkv+X2NY",
   "collapsed_sections": [],
   "include_colab_link": true,
   "name": "ClassificationModels.ipynb",
   "provenance": []
  },
  "kernelspec": {
   "display_name": "Python 3 (ipykernel)",
   "language": "python",
   "name": "python3"
  },
  "language_info": {
   "codemirror_mode": {
    "name": "ipython",
    "version": 3
   },
   "file_extension": ".py",
   "mimetype": "text/x-python",
   "name": "python",
   "nbconvert_exporter": "python",
   "pygments_lexer": "ipython3",
   "version": "3.9.12"
  }
 },
 "nbformat": 4,
 "nbformat_minor": 1
}
