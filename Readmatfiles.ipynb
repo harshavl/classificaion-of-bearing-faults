{
 "cells": [
  {
   "cell_type": "markdown",
   "id": "da6f8860",
   "metadata": {},
   "source": [
    "## read mat files"
   ]
  },
  {
   "cell_type": "code",
   "execution_count": 2,
   "id": "0ab6df84",
   "metadata": {},
   "outputs": [
    {
     "name": "stdout",
     "output_type": "stream",
     "text": [
      "\u001b[33mDEPRECATION: Configuring installation scheme with distutils config files is deprecated and will no longer work in the near future. If you are using a Homebrew or Linuxbrew Python, please see discussion at https://github.com/Homebrew/homebrew-core/issues/76621\u001b[0m\u001b[33m\n",
      "\u001b[0mRequirement already satisfied: scipy in /usr/local/lib/python3.9/site-packages (1.8.1)\n",
      "Requirement already satisfied: numpy<1.25.0,>=1.17.3 in /usr/local/lib/python3.9/site-packages (from scipy) (1.22.4)\n",
      "\u001b[33mDEPRECATION: Configuring installation scheme with distutils config files is deprecated and will no longer work in the near future. If you are using a Homebrew or Linuxbrew Python, please see discussion at https://github.com/Homebrew/homebrew-core/issues/76621\u001b[0m\u001b[33m\n",
      "\u001b[0m\u001b[33mWARNING: You are using pip version 22.0.4; however, version 22.1.2 is available.\n",
      "You should consider upgrading via the '/usr/local/opt/python@3.9/bin/python3.9 -m pip install --upgrade pip' command.\u001b[0m\u001b[33m\n",
      "\u001b[0m"
     ]
    }
   ],
   "source": [
    "! pip3 install scipy"
   ]
  },
  {
   "cell_type": "code",
   "execution_count": 3,
   "id": "fd27d67b",
   "metadata": {},
   "outputs": [],
   "source": [
    "file=r\"./BearingData_CaseWestern/99.mat\""
   ]
  },
  {
   "cell_type": "code",
   "execution_count": 5,
   "id": "ed3e157d",
   "metadata": {},
   "outputs": [],
   "source": [
    "from scipy.io import loadmat\n",
    "\n",
    "annots = loadmat(file)"
   ]
  },
  {
   "cell_type": "code",
   "execution_count": 6,
   "id": "ce682483",
   "metadata": {},
   "outputs": [
    {
     "data": {
      "text/plain": [
       "{'__header__': b'MATLAB 5.0 MAT-file, Platform: PCWIN, Created on: Fri Jan 28 11:19:25 2000',\n",
       " '__version__': '1.0',\n",
       " '__globals__': [],\n",
       " 'ans': array([[1]], dtype=uint8),\n",
       " 'X098_DE_time': array([[ 0.046104  ],\n",
       "        [-0.03713354],\n",
       "        [-0.089496  ],\n",
       "        ...,\n",
       "        [-0.09909231],\n",
       "        [-0.10827138],\n",
       "        [-0.07092923]]),\n",
       " 'X098_FE_time': array([[ 0.02321636],\n",
       "        [ 0.08115455],\n",
       "        [ 0.09533091],\n",
       "        ...,\n",
       "        [-0.00760182],\n",
       "        [ 0.04026909],\n",
       "        [ 0.06102   ]]),\n",
       " 'X099_DE_time': array([[ 0.06425354],\n",
       "        [ 0.06300185],\n",
       "        [-0.00438092],\n",
       "        ...,\n",
       "        [ 0.00521538],\n",
       "        [-0.06571385],\n",
       "        [-0.12266585]]),\n",
       " 'X099_FE_time': array([[0.03862545],\n",
       "        [0.09676909],\n",
       "        [0.12738182],\n",
       "        ...,\n",
       "        [0.03164   ],\n",
       "        [0.113     ],\n",
       "        [0.16292545]])}"
      ]
     },
     "execution_count": 6,
     "metadata": {},
     "output_type": "execute_result"
    }
   ],
   "source": [
    "annots"
   ]
  },
  {
   "cell_type": "markdown",
   "id": "c1d22a61",
   "metadata": {},
   "source": [
    "## Reference: https://engineering.case.edu/bearingdatacenter/download-data-file"
   ]
  },
  {
   "cell_type": "code",
   "execution_count": null,
   "id": "63fd6840",
   "metadata": {},
   "outputs": [],
   "source": []
  }
 ],
 "metadata": {
  "kernelspec": {
   "display_name": "Python 3 (ipykernel)",
   "language": "python",
   "name": "python3"
  },
  "language_info": {
   "codemirror_mode": {
    "name": "ipython",
    "version": 3
   },
   "file_extension": ".py",
   "mimetype": "text/x-python",
   "name": "python",
   "nbconvert_exporter": "python",
   "pygments_lexer": "ipython3",
   "version": "3.9.12"
  }
 },
 "nbformat": 4,
 "nbformat_minor": 5
}
